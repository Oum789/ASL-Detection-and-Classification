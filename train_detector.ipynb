{
 "cells": [
  {
   "cell_type": "code",
   "execution_count": null,
   "metadata": {},
   "outputs": [],
   "source": [
    "from ultralytics import YOLO\n",
    "\n",
    "# Define your training script in a function\n",
    "def train_model():\n",
    "    # Load the model\n",
    "    model = YOLO('yolov8m.pt').to(\"cuda\")  # Or another YOLOv8 model\n",
    "    \n",
    "    # Train the model\n",
    "    results = model.train(data=\"dataset2022.yaml\", epochs=100, device=\"cuda\")\n",
    "\n",
    "# Ensure proper entry point\n",
    "if __name__ == '__main__':\n",
    "    train_model()"
   ]
  }
 ],
 "metadata": {
  "language_info": {
   "name": "python"
  }
 },
 "nbformat": 4,
 "nbformat_minor": 2
}
